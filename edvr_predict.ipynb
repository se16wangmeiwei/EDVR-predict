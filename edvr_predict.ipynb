{
  "nbformat": 4,
  "nbformat_minor": 0,
  "metadata": {
    "colab": {
      "name": "edvr_predict.ipynb",
      "provenance": [],
      "collapsed_sections": [],
      "toc_visible": true,
      "include_colab_link": true
    },
    "kernelspec": {
      "name": "python3",
      "display_name": "Python 3"
    },
    "language_info": {
      "name": "python"
    },
    "accelerator": "GPU"
  },
  "cells": [
    {
      "cell_type": "markdown",
      "metadata": {
        "id": "view-in-github",
        "colab_type": "text"
      },
      "source": [
        "<a href=\"https://colab.research.google.com/github/se16wangmeiwei/EDVR-predict/blob/main/edvr_predict.ipynb\" target=\"_parent\"><img src=\"https://colab.research.google.com/assets/colab-badge.svg\" alt=\"Open In Colab\"/></a>"
      ]
    },
    {
      "cell_type": "markdown",
      "metadata": {
        "id": "mBkOR968SQxV"
      },
      "source": [
        "# Get EDVR"
      ]
    },
    {
      "cell_type": "code",
      "metadata": {
        "colab": {
          "base_uri": "https://localhost:8080/"
        },
        "id": "-6-YhbgdN526",
        "outputId": "41f72c88-e983-470d-fe4e-858ca7e41aa0"
      },
      "source": [
        "from google.colab import drive\n",
        "from IPython.display import clear_output\n",
        "\n",
        "drive.mount('/content/drive', force_remount = True)"
      ],
      "execution_count": null,
      "outputs": [
        {
          "output_type": "stream",
          "text": [
            "Mounted at /content/drive\n"
          ],
          "name": "stdout"
        }
      ]
    },
    {
      "cell_type": "code",
      "metadata": {
        "colab": {
          "base_uri": "https://localhost:8080/"
        },
        "id": "Aeg_eWugPJQ4",
        "outputId": "ead65c0d-784d-4706-d93b-e47cabaaff26"
      },
      "source": [
        "!git clone https://github.com/xinntao/EDVR"
      ],
      "execution_count": null,
      "outputs": [
        {
          "output_type": "stream",
          "text": [
            "fatal: destination path 'EDVR' already exists and is not an empty directory.\n"
          ],
          "name": "stdout"
        }
      ]
    },
    {
      "cell_type": "code",
      "metadata": {
        "colab": {
          "base_uri": "https://localhost:8080/"
        },
        "id": "c7UQglpGPUk3",
        "outputId": "2ed745c8-c880-4ab7-b368-91859318a46b"
      },
      "source": [
        "cd EDVR"
      ],
      "execution_count": null,
      "outputs": [
        {
          "output_type": "stream",
          "text": [
            "/content/EDVR\n"
          ],
          "name": "stdout"
        }
      ]
    },
    {
      "cell_type": "code",
      "metadata": {
        "id": "Fe46nZ5gPctG"
      },
      "source": [
        "!pip install -r requirements.txt\n",
        "\n",
        "clear_output()"
      ],
      "execution_count": null,
      "outputs": []
    },
    {
      "cell_type": "code",
      "metadata": {
        "id": "-WOvLBq0RN2Q"
      },
      "source": [
        "!python setup.py develop\n",
        "clear_output()"
      ],
      "execution_count": null,
      "outputs": []
    },
    {
      "cell_type": "code",
      "metadata": {
        "id": "u-o5U0F3P8kK"
      },
      "source": [
        "!pip install numpy opencv-python lmdb pyyaml\n",
        "clear_output()"
      ],
      "execution_count": null,
      "outputs": []
    },
    {
      "cell_type": "code",
      "metadata": {
        "id": "vhnib1-mQMEb"
      },
      "source": [
        "!pip install tb-nightly future\n",
        "clear_output()"
      ],
      "execution_count": null,
      "outputs": []
    },
    {
      "cell_type": "markdown",
      "metadata": {
        "id": "td0Yl6UzSYLF"
      },
      "source": [
        "# Download Pre-trained Modles"
      ]
    },
    {
      "cell_type": "code",
      "metadata": {
        "id": "3TgDvqh8QUJ3"
      },
      "source": [
        "!wget --no-check-certificate 'https://drive.google.com/uc?export=download&id=1PYULZmtpsmY4Wx8M9f4owdLIwcwQFEmi' -O EDVR_REDS_SR_L.pth\n",
        "!wget --no-check-certificate 'https://drive.google.com/uc?export=download&id=1ZCl0aU8isEnUCsUYv9rIZZQrGo7vBFUH' -O EDVR_REDS_deblur_L.pth\n",
        "!wget --no-check-certificate 'https://drive.google.com/uc?export=download&id=1SGVehpZt4WL_X8Jh6blyqmHpc8DdImgv' -O EDVR_REDS_deblurcomp_L.pth\n",
        "!wget --no-check-certificate 'https://drive.google.com/uc?export=download&id=18ev7Zx_10-C8-0tAVAe_BpYeLHpr_ChE' -O EDVR_REDS_SRblur_L.pth\n",
        "!wget --no-check-certificate 'https://drive.google.com/uc?export=download&id=1I7x87ee3E1DoFVgMxX09nfIb2tdUdE3x' -O EDVR_Vimeo90K_SR_L.pth\n",
        "\n",
        "clear_output()"
      ],
      "execution_count": null,
      "outputs": []
    },
    {
      "cell_type": "code",
      "metadata": {
        "id": "K5J3AwwyShxc"
      },
      "source": [
        "!mv /content/EDVR/EDVR_REDS_SR_L.pth /content/EDVR/experiments/pretrained_models\n",
        "!mv /content/EDVR/EDVR_REDS_deblur_L.pth /content/EDVR/experiments/pretrained_models\n",
        "!mv /content/EDVR/EDVR_REDS_deblurcomp_L.pth /content/EDVR/experiments/pretrained_models\n",
        "!mv /content/EDVR/EDVR_REDS_SRblur_L.pth /content/EDVR/experiments/pretrained_models\n",
        "!mv /content/EDVR/EDVR_Vimeo90K_SR_L.pth /content/EDVR/experiments/pretrained_models"
      ],
      "execution_count": null,
      "outputs": []
    },
    {
      "cell_type": "code",
      "metadata": {
        "id": "afFNSlA0Sono"
      },
      "source": [
        "# stage 2\n",
        "!wget --no-check-certificate 'https://drive.google.com/uc?export=download&id=1G466gQ1rRl8MUKSEbtaR0U5xgIWdsG66' -O EDVR_REDS_deblurcomp_Stage2.pth\n",
        "!wget --no-check-certificate 'https://drive.google.com/uc?export=download&id=1kfArevFT8hzbUT2QWXFmUl983LTebQGP' -O EDVR_REDS_SR_Stage2.pth\n",
        "!wget --no-check-certificate 'https://drive.google.com/uc?export=download&id=13c-VxMdf8h7MGX-_y4xamxo1hhOMYzsH' -O EDVR_REDS_SRblur_Stage2.pth\n",
        "!wget --no-check-certificate 'https://drive.google.com/uc?export=download&id=1Y1y6v40dL74Kgf5fxbGd0QC010LFCBYz' -O EDVR_REDS_deblur_Stage2.pth\n",
        "\n",
        "clear_output()"
      ],
      "execution_count": null,
      "outputs": []
    },
    {
      "cell_type": "code",
      "metadata": {
        "id": "4tEFNGKZSq59"
      },
      "source": [
        "# stage 2\n",
        "!mv /content/EDVR/EDVR_REDS_deblurcomp_Stage2.pth /content/EDVR/experiments/pretrained_models\n",
        "!mv /content/EDVR/EDVR_REDS_SR_Stage2.pth /content/EDVR/experiments/pretrained_models\n",
        "!mv /content/EDVR/EDVR_REDS_SRblur_Stage2.pth /content/EDVR/experiments/pretrained_models\n",
        "!mv /content/EDVR/EDVR_REDS_deblur_Stage2.pth /content/EDVR/experiments/pretrained_models"
      ],
      "execution_count": null,
      "outputs": []
    },
    {
      "cell_type": "code",
      "metadata": {
        "colab": {
          "base_uri": "https://localhost:8080/"
        },
        "id": "RDoTS4chSwxX",
        "outputId": "ffe5c87a-876f-48a1-f9ec-ee2856222a1c"
      },
      "source": [
        "cd /content/EDVR"
      ],
      "execution_count": null,
      "outputs": [
        {
          "output_type": "stream",
          "text": [
            "/content/EDVR\n"
          ],
          "name": "stdout"
        }
      ]
    },
    {
      "cell_type": "code",
      "metadata": {
        "id": "VhDbzWHGSziq"
      },
      "source": [
        "import sys\n",
        "sys.path.append('/content/EDVR/basicsr')\n",
        "sys.path.append('/content/EDVR/basicsr/utils')\n",
        "sys.path.append('/content/EDVR/basicsr/data')\n",
        "sys.path.append('/content/EDVR/basicsr/models/archs')\n"
      ],
      "execution_count": null,
      "outputs": []
    },
    {
      "cell_type": "markdown",
      "metadata": {
        "id": "enzkrZE0S2Lw"
      },
      "source": [
        "# Start Pretrained"
      ]
    },
    {
      "cell_type": "code",
      "metadata": {
        "id": "hdhqWHSTDzsg"
      },
      "source": [
        "def preProcess(imag_path_l, multiple):\n",
        "  '''Need to resize images for blurred model (needs to be multiples of 16)'''\n",
        "  im = Image.open(imag_path_l)\n",
        "  h, w = im.size\n",
        "  # resize so they are multiples of 4 or 16 (for blurred)\n",
        "  h = h - h % multiple\n",
        "  w = w - w % multiple\n",
        "  im = im.resize((h,w))\n",
        "  im.save(imag_path_l)"
      ],
      "execution_count": null,
      "outputs": []
    },
    {
      "cell_type": "code",
      "metadata": {
        "id": "xZsTcErUS0-g"
      },
      "source": [
        "import torch\n",
        "import data_util\n",
        "import util #这个文件是自己加载的\n",
        "import edvr_arch as EDVR_arch\n",
        "import glob\n",
        "import os.path as ops\n",
        "\n",
        "device = torch.device('cuda')\n",
        "# 预训练模型的路径,使用vid4来进行预测\n",
        "model_path = '/content/EDVR/experiments/pretrained_models/EDVR_Vimeo90K_SR_L.pth'\n",
        "predeblur, HR_in = True, True\n",
        "model = EDVR_arch.EDVR(num_feat=128, num_reconstruct_block=40,with_predeblur=predeblur, hr_in=HR_in)\n",
        "model.load_state_dict(torch.load(model_path), strict=False)\n",
        "model = model.to(device)\n",
        "\n",
        "# 对数据进行预处理\n",
        "# predeblur = True\n",
        "# folder = '/content/EDVR/data'\n",
        "# folder_l = sorted(glob.glob(ops.join(folder,'*')))\n",
        "# if predeblur:\n",
        "#   preProcess(folder_l, 16)\n",
        "# else:\n",
        "#   predeblur(folder_l, 4)\n",
        "\n"
      ],
      "execution_count": null,
      "outputs": []
    },
    {
      "cell_type": "code",
      "metadata": {
        "id": "3mHAxHpma9mQ"
      },
      "source": [
        "def modcrop(img, modulo):\n",
        "    (ih, iw) = img.size\n",
        "    ih = ih - (ih%modulo);\n",
        "    iw = iw - (iw%modulo);\n",
        "    img = img.crop((0, 0, ih, iw))\n",
        "    return img"
      ],
      "execution_count": null,
      "outputs": []
    },
    {
      "cell_type": "code",
      "metadata": {
        "colab": {
          "base_uri": "https://localhost:8080/"
        },
        "id": "mtMGnsdIBkSS",
        "outputId": "1bf6757e-d10b-424a-e6e8-4bcfd4423734"
      },
      "source": [
        "from PIL import Image\n",
        "scale = 4\n",
        "nframe = 5\n",
        "tt = int(nframe/2)\n",
        "filepath = '/content/drive/MyDrive/data/Vid4/foliage/003.png'\n",
        "input = modcrop(Image.open(filepath).convert('RGB'),scale)\n",
        "# input = target.resize((int(target.size[0]/scale),int(target.size[1]/scale)), Image.BICUBIC)\n",
        "inputs = []\n",
        "seq = [x for x in range(-tt, tt+1)]\n",
        "char_len = len(filepath)\n",
        "for i in seq:\n",
        "  index = int(filepath[char_len-7:char_len-4])+i\n",
        "  print(index)\n",
        "  file_name1=filepath[0:char_len-7]+'{0:03d}'.format(index)+'.png'\n",
        "  print(file_name1)\n",
        "  if predeblur:\n",
        "    preProcess(file_name1, 16)\n",
        "  else:\n",
        "    predeblur(file_name1, 4)\n",
        "  temp = modcrop(Image.open(file_name1).convert('RGB'), scale)\n",
        "  inputs.append(temp)"
      ],
      "execution_count": null,
      "outputs": [
        {
          "output_type": "stream",
          "text": [
            "1\n",
            "/content/drive/MyDrive/data/Vid4/foliage/001.png\n",
            "2\n",
            "/content/drive/MyDrive/data/Vid4/foliage/002.png\n",
            "3\n",
            "/content/drive/MyDrive/data/Vid4/foliage/003.png\n",
            "4\n",
            "/content/drive/MyDrive/data/Vid4/foliage/004.png\n",
            "5\n",
            "/content/drive/MyDrive/data/Vid4/foliage/005.png\n"
          ],
          "name": "stdout"
        }
      ]
    },
    {
      "cell_type": "code",
      "metadata": {
        "colab": {
          "base_uri": "https://localhost:8080/"
        },
        "id": "EGPytPXFB1Zd",
        "outputId": "64356ff6-4d50-43fd-d864-d939d756f2ac"
      },
      "source": [
        "inputs"
      ],
      "execution_count": null,
      "outputs": [
        {
          "output_type": "execute_result",
          "data": {
            "text/plain": [
              "[<PIL.Image.Image image mode=RGB size=176x112 at 0x7F3CC92969D0>,\n",
              " <PIL.Image.Image image mode=RGB size=176x112 at 0x7F3CC9296F50>,\n",
              " <PIL.Image.Image image mode=RGB size=176x112 at 0x7F3CC92A1250>,\n",
              " <PIL.Image.Image image mode=RGB size=176x112 at 0x7F3CC92A1490>,\n",
              " <PIL.Image.Image image mode=RGB size=176x112 at 0x7F3CC92A1190>]"
            ]
          },
          "metadata": {
            "tags": []
          },
          "execution_count": 18
        }
      ]
    },
    {
      "cell_type": "code",
      "metadata": {
        "id": "SjA1O4D2Bzjq"
      },
      "source": [
        "import torchvision.transforms as transforms\n",
        "import torch\n",
        "\n",
        "transform = transforms.ToTensor()\n",
        "inputs = [transform(j) for j in inputs]"
      ],
      "execution_count": null,
      "outputs": []
    },
    {
      "cell_type": "code",
      "metadata": {
        "id": "vMMrXvuOEXA-"
      },
      "source": [
        "inputs = [j.to(device) for j in inputs]"
      ],
      "execution_count": null,
      "outputs": []
    },
    {
      "cell_type": "code",
      "metadata": {
        "id": "zF55vzVyCAme"
      },
      "source": [
        "inputs = [j.reshape(1,1,3,112, 176) for j in inputs]"
      ],
      "execution_count": null,
      "outputs": []
    },
    {
      "cell_type": "code",
      "metadata": {
        "id": "R2ej-wLHCDcJ"
      },
      "source": [
        "t1 = torch.cat((inputs[0],inputs[1],inputs[2],inputs[3],inputs[4]),1)"
      ],
      "execution_count": null,
      "outputs": []
    },
    {
      "cell_type": "code",
      "metadata": {
        "id": "BjhRVIe3CHsj"
      },
      "source": [
        "t1.to(device)\n",
        "\n",
        "clear_output()"
      ],
      "execution_count": null,
      "outputs": []
    },
    {
      "cell_type": "code",
      "metadata": {
        "id": "raihjrUVC5tG"
      },
      "source": [
        "prediction = util.single_forward(model, t1)"
      ],
      "execution_count": null,
      "outputs": []
    },
    {
      "cell_type": "code",
      "metadata": {
        "id": "vNkwp81gJ-4o"
      },
      "source": [
        "prediction = prediction.data.cpu()"
      ],
      "execution_count": null,
      "outputs": []
    },
    {
      "cell_type": "code",
      "metadata": {
        "colab": {
          "base_uri": "https://localhost:8080/"
        },
        "id": "C3o_X8rFMQP2",
        "outputId": "170bf981-9b61-4f2e-892d-f05039826131"
      },
      "source": [
        "prediction.shape"
      ],
      "execution_count": null,
      "outputs": [
        {
          "output_type": "execute_result",
          "data": {
            "text/plain": [
              "torch.Size([1, 3, 112, 176])"
            ]
          },
          "metadata": {
            "tags": []
          },
          "execution_count": 26
        }
      ]
    },
    {
      "cell_type": "code",
      "metadata": {
        "id": "FI8E31o5MakY"
      },
      "source": [
        "unloader = transforms.ToPILImage()\n",
        "prediction = prediction.squeeze(0)  # remove the fake batch dimension\n",
        "prediction = unloader(prediction)"
      ],
      "execution_count": null,
      "outputs": []
    },
    {
      "cell_type": "code",
      "metadata": {
        "colab": {
          "base_uri": "https://localhost:8080/",
          "height": 129
        },
        "id": "k7rJUrGTMtmU",
        "outputId": "391aec2b-11da-48b4-8b9a-561fe56fd250"
      },
      "source": [
        "prediction"
      ],
      "execution_count": null,
      "outputs": [
        {
          "output_type": "execute_result",
          "data": {
            "image/png": "[encoded data removed]",
            "text/plain": [
              "<PIL.Image.Image image mode=RGB size=176x112 at 0x7F3CC08E0F10>"
            ]
          },
          "metadata": {
            "tags": []
          },
          "execution_count": 31
        }
      ]
    },
    {
      "cell_type": "code",
      "metadata": {
        "id": "-HondzdPM2ry"
      },
      "source": [
        ""
      ],
      "execution_count": null,
      "outputs": []
    }
  ]
}